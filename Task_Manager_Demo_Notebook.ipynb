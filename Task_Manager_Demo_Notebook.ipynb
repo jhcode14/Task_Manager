{
 "cells": [
  {
   "cell_type": "markdown",
   "metadata": {},
   "source": [
    "# Task Manager 1.0 Demo"
   ]
  },
  {
   "cell_type": "markdown",
   "metadata": {},
   "source": [
    "## Introduction\n",
    "\n",
    "Date Created: 3/16/2021 [COGS 18 Final Project] \\\n",
    "Project Location: https://github.com/jhcode14/Task_Manager\n",
    "\n",
    "\n",
    "Welcome to Task Manager 1.0\n",
    "\n",
    "The objective of this project is to have a Terminal-runned or Jupyter Notebook based local task planning service, functionalities of this project include:\n",
    "- add/delete tasks\n",
    "- preview all tasks in list\n",
    "- view all tasks in detail\n",
    "- automatically save tasks (if there are tasks active before quitting Task Manager)\n",
    "- automatically re-open tasks from previous sessions (if it exists)\n",
    "\n",
    "\n",
    "#### Notes:\n",
    "- To run this program in Jupyter Notebook: Import the program and call the \"demo\" function from script.py as belows.\n",
    "- To run this program in Terminal, make sure Python 3 is installed. Head to folder program_script and run: \"Python3 script\" (preferred method)"
   ]
  },
  {
   "cell_type": "markdown",
   "metadata": {},
   "source": [
    "## Rerquirements\n",
    "- Install Python2 or Python3\n",
    "- Install Jupyter Notebook"
   ]
  },
  {
   "cell_type": "markdown",
   "metadata": {},
   "source": [
    "## Project Format\n",
    "Task_Manager [Main Folder] \\\n",
    "| README.md (Description of Project for Github) \\\n",
    "| Task_Manager_Demo_Notebook.ipynb (Description + Demo on Jupyter Notebook)\\\n",
    "| example_data.md (Example for this demo)\\\n",
    "| test_data.md (For auto/manual function testing)\\\n",
    "| my_module [Folder] \\\n",
    "---| classes.py (The only class used for this project) \\\n",
    "---| functions.py (Includes all the function used for this project) \\\n",
    "---| test_functions.py (For function testing) \\\n",
    "| program_script [Folder] \\\n",
    "---| script.py (Run this in terminal/command prompt to run project)"
   ]
  },
  {
   "cell_type": "markdown",
   "metadata": {},
   "source": [
    "## Demo\n",
    "Here is a demo of the project, import the project first."
   ]
  },
  {
   "cell_type": "code",
   "execution_count": null,
   "metadata": {},
   "outputs": [],
   "source": [
    "# Import the program script before continue to demo\n",
    "import program_script.script as TM"
   ]
  },
  {
   "cell_type": "markdown",
   "metadata": {},
   "source": [
    "#### Demo with example of opening program with previous file saved\n",
    "Make sure the code is stated the same as follows:\n",
    "```python\n",
    "import program_script.script as TM\n",
    "TM.demo(\"Task_Manager\\example_data.md\")\n",
    "```\n",
    "\n",
    "After menu is printed type the commend provided to perform such task.\\\n",
    "i.e. simply type \"q\" or \"list\" or \"see\" or \"add\" or \"del\" \\\n",
    "(Invalid method will not be accepted)"
   ]
  },
  {
   "cell_type": "code",
   "execution_count": null,
   "metadata": {},
   "outputs": [],
   "source": [
    "# To run demo simulating tasks saved from previous sessions:\n",
    "TM.demo(\"Task_Manager\\example_data.md\")"
   ]
  },
  {
   "cell_type": "markdown",
   "metadata": {},
   "source": [
    "#### Demo with nothing saved previosly (new)\n",
    "Note that \"example_data.md\" provides you a list of example tasks that are already stored from the previous session. To start fresh without any data stored in the system, used the code below instead.\n",
    "\n",
    "```python\n",
    "import program_script.script as TM\n",
    "TM.demo(\"Task_Manager\\data.md\")\n",
    "```"
   ]
  },
  {
   "cell_type": "code",
   "execution_count": null,
   "metadata": {},
   "outputs": [],
   "source": [
    "# To run demo without example tasks:\n",
    "TM.demo(\"Task_Manager\\data.md\")"
   ]
  },
  {
   "cell_type": "markdown",
   "metadata": {},
   "source": [
    "#### (Optional) Read the documentation of functions:"
   ]
  },
  {
   "cell_type": "code",
   "execution_count": null,
   "metadata": {},
   "outputs": [],
   "source": [
    "# For understanding how functions are utilized in scripts:\n",
    "\n",
    "#import my_module.functions as fx\n",
    "\n",
    "#fx.create_task?\n",
    "#fx.delete_num?\n",
    "#fx.print_tasks_as_list?\n",
    "#fx.print_tasks?\n",
    "#fx.read_file?\n",
    "#fx.write_file?"
   ]
  },
  {
   "cell_type": "markdown",
   "metadata": {},
   "source": [
    "### Caution: Variation between using Jupyter Notebook and Terminal\n",
    "1. By calling \"Python3 script.py\" in terminal/command prompt, it will initiate automiatically because \"__name__ == __main__\". In Jupyter Notebook, to run the program, first you need to import the script, then call the demo(...) function to run the same function. \n",
    "\n",
    "\n",
    "2. Because this Jupyter Notebook and script.py is at the different directory, user needs to be aware of the location data is stored. For example:\n",
    "- When opening and saving the data, the program will nevigate up one directory level then store the file with default or assigned file name.\n",
    "\n",
    "- In program_script\\script.py, the data storing location is default to be in Task_Manager folder and be called data.md. Thus it is defaulted in function as demo(file_name = \"data.md\"). Which the program will go up one directory level to leave program_script folder and save file in Task_Manager folder instead.\n",
    "\n",
    "- However, since this notebook is not in the program_script folder, instead it is in the folder Task_Manager, the defaulted \"file_name\" value would make the program store data.md store it AT the location of where Task_Manager folder is located INSTEAD of being inside of Task_Manager\n",
    "\n",
    "- Thus, as above, we call the program by:\n",
    "\n",
    "```Python\n",
    "TM.demo(\"Task_Manager\\data.md\")\n",
    "```\n",
    "\n",
    "#### This is the end of demo. Thank you for taking a look at Task Manager 1.0"
   ]
  },
  {
   "cell_type": "markdown",
   "metadata": {},
   "source": [
    "## About Author\n",
    "\n",
    "This Project is made by Jason H. for COGS 18 course.\n",
    "\n",
    "I started with AP Comp Sci course with Java. Transitioned to Python after the course. I this is my 3rd Python Project. I have been using Python to code for about a year (with pauses in between)\n",
    "\n",
    "#### Skills I learned and mastered upon complete this project:\n",
    "- Object-Oriented Programing for Python (Classes, Functions, Main script)\n",
    "- Accessing external file (os, open file, write/read file)\n",
    "- PEP8 Formatting\n",
    "- Formal documentation with Docstrings\n",
    "- Function Testing (Note: Automatic/Manual testing)\n",
    "\n",
    "#### Things planned to be included in Task_Manager 2.0 (Coming Soon):\n",
    "- Choose a task to turn it into calander file (.ics)\n",
    "- Sort tasks\n",
    "- Convert to popular data formats such as json, csv"
   ]
  }
 ],
 "metadata": {
  "kernelspec": {
   "display_name": "Python 3",
   "language": "python",
   "name": "python3"
  },
  "language_info": {
   "codemirror_mode": {
    "name": "ipython",
    "version": 3
   },
   "file_extension": ".py",
   "mimetype": "text/x-python",
   "name": "python",
   "nbconvert_exporter": "python",
   "pygments_lexer": "ipython3",
   "version": "3.8.5"
  }
 },
 "nbformat": 4,
 "nbformat_minor": 2
}
